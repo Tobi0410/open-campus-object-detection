{
 "cells": [
  {
   "cell_type": "code",
   "execution_count": 3,
   "id": "dc74ce9e",
   "metadata": {},
   "outputs": [
    {
     "name": "stderr",
     "output_type": "stream",
     "text": [
      "Using cache found in C:\\Users\\Hochschule_Aalen/.cache\\torch\\hub\\ultralytics_yolov5_master\n",
      "YOLOv5  2023-4-24 Python-3.10.9 torch-2.0.0+cpu CPU\n",
      "\n",
      "Fusing layers... \n",
      "YOLOv5s summary: 213 layers, 7225885 parameters, 0 gradients\n",
      "Adding AutoShape... \n"
     ]
    },
    {
     "name": "stdout",
     "output_type": "stream",
     "text": [
      "\u001b[31m\u001b[1mrequirements:\u001b[0m C:\\Users\\Hochschule_Aalen\\.cache\\torch\\hub\\requirements.txt not found, check failed.\n"
     ]
    }
   ],
   "source": [
    "import cv2\n",
    "import torch\n",
    "from PIL import Image\n",
    "import numpy as np\n",
    "import random\n",
    "\n",
    "model = torch.hub.load('ultralytics/yolov5', 'yolov5s')\n",
    "\n",
    "#for i in model.names: # name->labels\n",
    "#        if model.names[i] == \"person\":\n",
    "#            print(model.names[i])\n",
    "#            model.names[i] = \"neuer Text Person\"\n",
    "#            print(model.names[i])\n",
    "\n",
    "vid = cv2.VideoCapture(0)\n",
    "# vid.open(0) -> internal Webcam\n",
    "# vid.open(1) -> external Webcam\n",
    "vid.open(1)\n",
    "\n",
    "# Fullscreen\n",
    "window_name = \"window\"\n",
    "cv2.namedWindow(window_name, cv2.WND_PROP_FULLSCREEN)\n",
    "cv2.setWindowProperty(window_name, cv2.WND_PROP_FULLSCREEN, cv2.WINDOW_FULLSCREEN)\n",
    "\n",
    "def plot_description(img, label, x, y):\n",
    "    font = cv2.FONT_HERSHEY_SIMPLEX\n",
    "    org = (x, y)\n",
    "    fontScale = 0.5\n",
    "    font_color = (255,255,255)\n",
    "    thickness = 1\n",
    "    #text_color_bg=(0, 0, 0)\n",
    "    \n",
    "    \n",
    "    #x, y = org\n",
    "    #text_size, _ = cv2.getTextSize(label, font, fontScale, thickness)\n",
    "    #text_w, text_h = text_size\n",
    "    #cv2.rectangle(img, org, (x + text_w, y - text_h), color, -1)\n",
    "    cv2.putText(img, label, org, font, fontScale, font_color, thickness, cv2.LINE_AA)\n",
    "    \n",
    "    # Generate Colors\n",
    "    #names = model.module.names if hasattr(model, 'module') else model.names\n",
    "    #colors = [[random.randint(0, 255) for _ in range(3)] for _ in range(len(names))]\n",
    "    #colors=[colors(x, True) for x in 1000[:, 5]]\n",
    "    \n",
    "while(True):\n",
    "    \n",
    "    # Capture the video frame\n",
    "    ret, frame = vid.read()\n",
    "    \n",
    "    # Display the resulting frame\n",
    "    results = model(frame)\n",
    "    \n",
    "    # Label von erkannten Objekten auslesen\n",
    "    df = results.pandas().xyxy[0]\n",
    "    \n",
    "    # Label in Modell ändern\n",
    "    for i in df['class']:\n",
    "        \n",
    "        # Name of label -> model.names[i]\n",
    "        \n",
    "        # plot description\n",
    "        for box in results.xyxy[0]: \n",
    "            if box[5]==i:\n",
    "                xB = int(box[2])\n",
    "                xA = int(box[0])\n",
    "                yB = int(box[3])\n",
    "                yA = int(box[1])\n",
    "                \n",
    "                plot_description(frame, \"text...\", xA+5, yB-5)\n",
    "        \n",
    "    cv2.imshow(window_name, results.render()[0])\n",
    "    \n",
    "    # the 'q' button is set as the quitting button\n",
    "    if cv2.waitKey(1) & 0xFF == ord('q'):\n",
    "        break\n",
    "        \n",
    "# After the loop release the cap object\n",
    "vid.release()\n",
    "\n",
    "# Destroy all the windows\n",
    "cv2.destroyAllWindows()"
   ]
  },
  {
   "cell_type": "code",
   "execution_count": null,
   "id": "66bb3200",
   "metadata": {},
   "outputs": [],
   "source": []
  }
 ],
 "metadata": {
  "kernelspec": {
   "display_name": "Python 3 (ipykernel)",
   "language": "python",
   "name": "python3"
  },
  "language_info": {
   "codemirror_mode": {
    "name": "ipython",
    "version": 3
   },
   "file_extension": ".py",
   "mimetype": "text/x-python",
   "name": "python",
   "nbconvert_exporter": "python",
   "pygments_lexer": "ipython3",
   "version": "3.10.9"
  }
 },
 "nbformat": 4,
 "nbformat_minor": 5
}
